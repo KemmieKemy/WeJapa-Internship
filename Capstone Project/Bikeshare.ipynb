{
 "cells": [
  {
   "cell_type": "markdown",
   "metadata": {},
   "source": [
    "# Capstone Project for We Japa Internship"
   ]
  },
  {
   "cell_type": "code",
   "execution_count": null,
   "metadata": {},
   "outputs": [],
   "source": [
    "import time\n",
    "import pandas as pd\n",
    "import numpy as np"
   ]
  },
  {
   "cell_type": "code",
   "execution_count": null,
   "metadata": {},
   "outputs": [],
   "source": [
    "CITY_DATA = { 'chicago': 'chicago.csv',\n",
    "              'new york city': 'new_york_city.csv',\n",
    "              'washington': 'washington.csv' }"
   ]
  },
  {
   "cell_type": "code",
   "execution_count": null,
   "metadata": {},
   "outputs": [],
   "source": [
    "def get_filters():\n",
    "    \"\"\"\n",
    "    Asks user to specify a city, month, and day to analyze.\n",
    "\n",
    "    Returns:\n",
    "        (str) city - name of the city to analyze\n",
    "        (str) month - name of the month to filter by, or \"all\" to apply no month filter\n",
    "        (str) day - name of the day of week to filter by, or \"all\" to apply no day filter\n",
    "    \"\"\"\n",
    "    print('Hello! Let\\'s explore some US bikeshare data!')\n",
    "    # get user input for city (chicago, new york city, washington). HINT: Use a while loop to handle invalid inputs\n",
    "    while True:\n",
    "        city = input(\"Which city would you like to explore ?\")\n",
    "        city = city.lower()\n",
    "        if city in ['chicago', 'new york city', 'washington']:\n",
    "            break\n",
    "        else:\n",
    "            print(\"invalid input. Please enter a valid input\")\n",
    "\n",
    "    # get user input for month (all, january, february, ... , june)\n",
    "    while True:    \n",
    "        month = input(\"Do you want details specific to a particular month? If yes, type month name from within first six months else type 'all'\")\n",
    "        month = month.lower()\n",
    "        if month in ['january', 'february', 'march', 'april', 'may', 'june', 'all']:\n",
    "            break\n",
    "        else:\n",
    "            print(\"invalid input. Please enter a valid input\")\n",
    "\n",
    "    # get user input for day of week (all, monday, tuesday, ... sunday)\n",
    "    while True:\n",
    "        day = input(\"Do you want details specific to a particular day? If yes, type day name else type 'all'\")\n",
    "        day = day.lower()\n",
    "        if day in ['monday', 'tuesday', 'wednesday', 'thursday', 'friday', 'saturday', 'sunday', 'all']:\n",
    "            break\n",
    "        else:\n",
    "            print(\"invalid input. Please enter a valid input\")\n",
    "\n",
    "    print('-'*40)\n",
    "    return city, month, day"
   ]
  },
  {
   "cell_type": "code",
   "execution_count": null,
   "metadata": {},
   "outputs": [],
   "source": [
    "def load_data(city, month, day):\n",
    "    \"\"\"\n",
    "    Loads data for the specified city and filters by month and day if applicable.\n",
    "    Args:\n",
    "        (str) city - name of the city to analyze\n",
    "        (str) month - name of the month to filter by, or \"all\" to apply no month filter\n",
    "        (str) day - name of the day of week to filter by, or \"all\" to apply no day filter\n",
    "    Returns:\n",
    "        df - Pandas DataFrame containing city data filtered by month and day\n",
    "    \"\"\"\n",
    "     # load data file into a dataframe\n",
    "    df = pd.read_csv(CITY_DATA[city])\n",
    "    \n",
    "    # convert the Start Time column to datetime\n",
    "    df['Start Time'] = pd.to_datetime(df['Start Time'])\n",
    "\n",
    "    # extract month and day of week from Start Time to create new columns\n",
    "    df['month'] = df['Start Time'].dt.month\n",
    "    df['day_of_week'] = df['Start Time'].dt.weekday_name\n",
    "\n",
    "\n",
    "    # filter by month if applicable\n",
    "    if month != 'all':\n",
    "        # use the index of the months list to get the corresponding int\n",
    "        months = ['january', 'february', 'march', 'april', 'may', 'june']\n",
    "        month = months.index(month) + 1\n",
    "    \n",
    "        # filter by month to create the new dataframe\n",
    "        df = df[df['month'] == month]\n",
    "\n",
    "    # filter by day of week if applicable\n",
    "    if day != 'all':\n",
    "        # filter by day of week to create the new dataframe\n",
    "        \n",
    "        df = df[df['day_of_week'] == day.title()]\n",
    "\n",
    "    return df"
   ]
  },
  {
   "cell_type": "code",
   "execution_count": null,
   "metadata": {},
   "outputs": [],
   "source": [
    "def time_stats(df):\n",
    "    \"\"\"Displays statistics on the most frequent times of travel.\"\"\"\n",
    "\n",
    "    print('\\nCalculating The Most Frequent Times of Travel...\\n')\n",
    "    start_time = time.time()\n",
    "\n",
    "    # display the most common month\n",
    "    print(\"The most common month is \", df['month'].mode()[0], \"\\n\")\n",
    "\n",
    "    # display the most common day of week\n",
    "    print(\"The most common day of week  is \", df['day_of_week'].mode()[0], \"\\n\")\n",
    "\n",
    "    # display the most common start hour\n",
    "    df['hour'] = df['Start Time'].dt.hour\n",
    "    print(\"The most common start hour is \", df['hour'].mode()[0])\n",
    "\n",
    "    print(\"\\nThis took %s seconds.\" % (time.time() - start_time))\n",
    "    print('-'*40)"
   ]
  },
  {
   "cell_type": "code",
   "execution_count": null,
   "metadata": {},
   "outputs": [],
   "source": [
    "def station_stats(df):\n",
    "    \"\"\"Displays statistics on the most popular stations and trip.\"\"\"\n",
    "\n",
    "    print('\\nCalculating The Most Popular Stations and Trip...\\n')\n",
    "    start_time = time.time()\n",
    "\n",
    "    # display most commonly used start station\n",
    "    print(\"The most commonly used start station is \", df['Start Station'].mode()[0], \"\\n\")\n",
    "\n",
    "    # display most commonly used end station\n",
    "    print(\"The most commonly used end station is \", df['End Station'].mode()[0], \"\\n\")\n",
    "\n",
    "    # display most frequent combination of start station and end station trip\n",
    "    df['combination'] = df['Start Station'] + \" \" + df['End Station']\n",
    "    print(\"The most frequent combination of start station and end station trip is: \", df['combination'].mode()[0])\n",
    "\n",
    "    print(\"\\nThis took %s seconds.\" % (time.time() - start_time))\n",
    "    print('-'*40)"
   ]
  },
  {
   "cell_type": "code",
   "execution_count": null,
   "metadata": {},
   "outputs": [],
   "source": [
    "def trip_duration_stats(df):\n",
    "    \"\"\"Displays statistics on the total and average trip duration.\"\"\"\n",
    "\n",
    "    print('\\nCalculating Trip Duration...\\n')\n",
    "    start_time = time.time()\n",
    "\n",
    "    # display total travel time\n",
    "    print(\"The total travel time is\", df['Trip Duration'].sum(), \"\\n\")\n",
    "\n",
    "    # display mean travel time\n",
    "    print(\"The total mean time is\", df['Trip Duration'].mean())\n",
    "\n",
    "    print(\"\\nThis took %s seconds.\" % (time.time() - start_time))\n",
    "    print('-'*40)"
   ]
  },
  {
   "cell_type": "code",
   "execution_count": null,
   "metadata": {},
   "outputs": [],
   "source": [
    "def user_stats(df, city):\n",
    "    \"\"\"Displays statistics on bikeshare users.\"\"\"\n",
    "\n",
    "    print('\\nCalculating User Stats...\\n')\n",
    "    start_time = time.time()\n",
    "\n",
    "    # Display counts of user types\n",
    "    user_types = df.groupby(['User Type'])['User Type'].count()\n",
    "    print(user_types, \"\\n\")\n",
    "    if city != 'washington':\n",
    "        # Display counts of gender\n",
    "        gen = df.groupby(['Gender'])['Gender'].count()\n",
    "        print(gen)\n",
    "        # Display earliest, most recent, and most common year of birth\n",
    "        mryob = sorted(df.groupby(['Birth Year'])['Birth Year'], reverse=True)[0][0]\n",
    "        eyob = sorted(df.groupby(['Birth Year'])['Birth Year'])[0][0]\n",
    "        mcyob = df['Birth Year'].mode()[0]\n",
    "        print(\"The earliest year of birth is \", eyob, \"\\n\")\n",
    "        print(\"The most recent year of birth is \", mryob, \"\\n\")\n",
    "        print(\"The most common year of birth is \", mcyob, \"\\n\")\n",
    "\n",
    "    print(\"\\nThis took %s seconds.\" % (time.time() - start_time))\n",
    "    print('-'*40)\n",
    "    x = 1\n",
    "    while True:\n",
    "        raw = input('\\nWould you like to see some raw data? Enter yes or no.\\n')\n",
    "        if raw.lower() == 'yes':\n",
    "            print(df[x:x+5])\n",
    "            x = x+5\n",
    "        else:\n",
    "            break"
   ]
  },
  {
   "cell_type": "code",
   "execution_count": null,
   "metadata": {},
   "outputs": [],
   "source": [
    "def main():\n",
    "    while True:\n",
    "        city, month, day = get_filters()\n",
    "        df = load_data(city, month, day)\n",
    "\n",
    "        time_stats(df)\n",
    "        station_stats(df)\n",
    "        trip_duration_stats(df)\n",
    "        user_stats(df)\n",
    "\n",
    "        restart = input('\\nWould you like to restart? Enter yes or no.\\n')\n",
    "        if restart.lower() != 'yes':\n",
    "            break"
   ]
  },
  {
   "cell_type": "code",
   "execution_count": null,
   "metadata": {},
   "outputs": [],
   "source": [
    "if __name__ == \"__main__\":\n",
    "    main()"
   ]
  },
  {
   "cell_type": "code",
   "execution_count": null,
   "metadata": {},
   "outputs": [],
   "source": []
  }
 ],
 "metadata": {
  "kernelspec": {
   "display_name": "Python 3",
   "language": "python",
   "name": "python3"
  },
  "language_info": {
   "codemirror_mode": {
    "name": "ipython",
    "version": 3
   },
   "file_extension": ".py",
   "mimetype": "text/x-python",
   "name": "python",
   "nbconvert_exporter": "python",
   "pygments_lexer": "ipython3",
   "version": "3.7.6"
  }
 },
 "nbformat": 4,
 "nbformat_minor": 4
}
