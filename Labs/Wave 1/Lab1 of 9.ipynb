{
 "cells": [
  {
   "cell_type": "markdown",
   "metadata": {},
   "source": [
    "# Lab1 of 9"
   ]
  },
  {
   "cell_type": "code",
   "execution_count": 1,
   "metadata": {},
   "outputs": [
    {
     "name": "stdout",
     "output_type": "stream",
     "text": [
      "If you can keep your head when all about you\n",
      "if you can keep your head when all about you\n",
      "if you can keep YOUR head when all about YOU\n",
      "False\n",
      "False\n",
      "are all\n",
      "-1\n",
      "['856+96']\n",
      "856+96\n",
      "Are All\n",
      "IF YOU CAN TRUST YOURSELF WHEN ALL MEN DOUBT YOU, BUT MAKE ALLOWANCE FOR THEIR DOUBTING TOO\n",
      "00856+96\n"
     ]
    }
   ],
   "source": [
    "# Browse the complete list of string methods at:\n",
    "# https://docs.python.org/3/library/stdtypes.html#string-methods \n",
    "#and try them out here. Endeavor to copy the link without the first # comment sign beginning it.\n",
    "\n",
    "verse1 = 'if you can keep YOUR head when all about YOU'  \n",
    "verse2 ='are losing theirs and blaming it on you'\n",
    "verse3 = 'ARE ALL'\n",
    "verse4 = 'If you can trust yourself when all men doubt you, But make allowance for their doubting too' \n",
    "verse5 = '856+96'\n",
    "print(verse1.capitalize())\n",
    "print(verse1.casefold())\n",
    "print(verse1.expandtabs(tabsize=3))\n",
    "print(verse2.isalpha())\n",
    "print(verse2.isspace())\n",
    "print(verse3.lower())\n",
    "print(verse4.rfind(verse3))\n",
    "print(verse5.split(','))\n",
    "print(verse5.strip())\n",
    "print(verse3.title())\n",
    "print(verse4.upper())\n",
    "print(verse5.zfill(8))"
   ]
  },
  {
   "cell_type": "code",
   "execution_count": null,
   "metadata": {},
   "outputs": [],
   "source": []
  }
 ],
 "metadata": {
  "kernelspec": {
   "display_name": "Python 3",
   "language": "python",
   "name": "python3"
  },
  "language_info": {
   "codemirror_mode": {
    "name": "ipython",
    "version": 3
   },
   "file_extension": ".py",
   "mimetype": "text/x-python",
   "name": "python",
   "nbconvert_exporter": "python",
   "pygments_lexer": "ipython3",
   "version": "3.7.6"
  }
 },
 "nbformat": 4,
 "nbformat_minor": 4
}
