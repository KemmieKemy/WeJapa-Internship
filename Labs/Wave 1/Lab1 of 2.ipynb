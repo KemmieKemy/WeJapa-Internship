{
 "cells": [
  {
   "cell_type": "markdown",
   "metadata": {},
   "source": [
    "# Lab1 of 2"
   ]
  },
  {
   "cell_type": "code",
   "execution_count": 1,
   "metadata": {},
   "outputs": [
    {
     "name": "stdout",
     "output_type": "stream",
     "text": [
      "Number of tiles needed is 98\n",
      "Number of left over tiles is 4\n"
     ]
    }
   ],
   "source": [
    "#Quiz: Calculate\n",
    "#In this quiz you're going to do some calculations for a tiler; \n",
    "#Two parts of a floor need tiling. \n",
    "#One part is 9 tiles wide by 7 tiles long, the other is 5 tiles wide by 7 tiles long. Tiles come in packages of 6.\n",
    "\n",
    "#1. How many tiles are needed?\n",
    "#2. You buy 17 packages of tiles containing 6 tiles each. How many tiles will be left over?\n",
    "First_part = 9*7\n",
    "Second_part = 5*7\n",
    "\n",
    "\n",
    "# Fill this in with an expression that calculates how many tiles are needed.\n",
    "Tiles_needed = First_part + Second_part\n",
    "print(f'Number of tiles needed is {Tiles_needed}')\n",
    "\n",
    "\n",
    "# Fill this in with an expression that calculates how many tiles will be left over.\n",
    "Tiles_bought = 17*6\n",
    "left_over = Tiles_bought - Tiles_needed\n",
    "print(f'Number of left over tiles is {left_over}')"
   ]
  },
  {
   "cell_type": "code",
   "execution_count": null,
   "metadata": {},
   "outputs": [],
   "source": []
  }
 ],
 "metadata": {
  "kernelspec": {
   "display_name": "Python 3",
   "language": "python",
   "name": "python3"
  },
  "language_info": {
   "codemirror_mode": {
    "name": "ipython",
    "version": 3
   },
   "file_extension": ".py",
   "mimetype": "text/x-python",
   "name": "python",
   "nbconvert_exporter": "python",
   "pygments_lexer": "ipython3",
   "version": "3.7.6"
  }
 },
 "nbformat": 4,
 "nbformat_minor": 4
}
