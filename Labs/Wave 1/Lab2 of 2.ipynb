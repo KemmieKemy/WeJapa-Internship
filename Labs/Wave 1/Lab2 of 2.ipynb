{
 "cells": [
  {
   "cell_type": "markdown",
   "metadata": {},
   "source": [
    "# Lab2 of 2"
   ]
  },
  {
   "cell_type": "code",
   "execution_count": 1,
   "metadata": {},
   "outputs": [
    {
     "name": "stdout",
     "output_type": "stream",
     "text": [
      "If you can keep your head when all about you\n",
      "  Are losing theirs and blaming it on you,\n",
      "If you can trust yourself when all men doubt you,\n",
      "  But make allowance for their doubting too;\n",
      "If you can wait and not be tired by waiting,\n",
      "  Or being lied about, don’t deal in lies,\n",
      "Or being hated, don’t give way to hating,\n",
      "  And yet don’t look too good, nor talk too wise:\n",
      " \n",
      "1. The length of the string variable verse is 362.\n",
      "2. The index of the first occurrence of the word 'and' in verse is 65.\n",
      "3. The index of the last occurrence of the word 'you' in verse is 186.\n",
      "4. The count of occurrences of the word 'you' in the verse is 8.\n"
     ]
    }
   ],
   "source": [
    "#1. What is the length of the string variable verse?\n",
    "#2. What is the index of the first occurrence of the word 'and' in verse?\n",
    "#3. What is the index of the last occurrence of the word 'you' in verse?\n",
    "#4. What is the count of occurrences of the word 'you' in the verse?\n",
    "\n",
    "\n",
    "verse = \"If you can keep your head when all about you\\n  Are losing theirs and blaming it on you,\\nIf you can trust yourself when all men doubt you,\\n  But make allowance for their doubting too;\\nIf you can wait and not be tired by waiting,\\n  Or being lied about, don’t deal in lies,\\nOr being hated, don’t give way to hating,\\n  And yet don’t look too good, nor talk too wise:\"\n",
    "word1 = \"and\"\n",
    "word2 = \"you\"\n",
    "print(verse)\n",
    "\n",
    "# Use the appropriate functions and methods to answer the questions above\n",
    "# Bonus: practice using .format() to output your answers in descriptive messages!\n",
    "print(' ')\n",
    "print(f'1. The length of the string variable verse is {len(verse)}.')\n",
    "\n",
    "print(f'2. The index of the first occurrence of the word \\'and\\' in verse is {verse.find(word1)}.')\n",
    "\n",
    "print(f'3. The index of the last occurrence of the word \\'you\\' in verse is {verse.rfind(word2)}.')\n",
    "\n",
    "print(f'4. The count of occurrences of the word \\'you\\' in the verse is {verse.count(word2)}.')"
   ]
  },
  {
   "cell_type": "code",
   "execution_count": null,
   "metadata": {},
   "outputs": [],
   "source": []
  }
 ],
 "metadata": {
  "kernelspec": {
   "display_name": "Python 3",
   "language": "python",
   "name": "python3"
  },
  "language_info": {
   "codemirror_mode": {
    "name": "ipython",
    "version": 3
   },
   "file_extension": ".py",
   "mimetype": "text/x-python",
   "name": "python",
   "nbconvert_exporter": "python",
   "pygments_lexer": "ipython3",
   "version": "3.7.6"
  }
 },
 "nbformat": 4,
 "nbformat_minor": 4
}
