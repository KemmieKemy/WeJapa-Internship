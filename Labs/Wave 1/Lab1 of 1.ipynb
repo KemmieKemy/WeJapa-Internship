{
 "cells": [
  {
   "cell_type": "markdown",
   "metadata": {},
   "source": [
    "# Lab1 of 1"
   ]
  },
  {
   "cell_type": "code",
   "execution_count": 1,
   "metadata": {},
   "outputs": [
    {
     "name": "stdout",
     "output_type": "stream",
     "text": [
      "The Average Electricity Bill is 39.666666666666664\n"
     ]
    }
   ],
   "source": [
    "#Quiz: Average Electricity Bill\n",
    "#It's time to try a calculation in Python!\n",
    "\n",
    "\n",
    "# Write an expression that calculates the average of 23, 32 and 64\n",
    "# Place the expression in this print statement\n",
    "Electricity_Bill = [23,32,64]\n",
    "#formula for average\n",
    "Average = sum(Electricity_Bill)/len(Electricity_Bill)\n",
    "print(f'The Average Electricity Bill is {Average}')"
   ]
  }
 ],
 "metadata": {
  "kernelspec": {
   "display_name": "Python 3",
   "language": "python",
   "name": "python3"
  },
  "language_info": {
   "codemirror_mode": {
    "name": "ipython",
    "version": 3
   },
   "file_extension": ".py",
   "mimetype": "text/x-python",
   "name": "python",
   "nbconvert_exporter": "python",
   "pygments_lexer": "ipython3",
   "version": "3.7.6"
  }
 },
 "nbformat": 4,
 "nbformat_minor": 4
}
