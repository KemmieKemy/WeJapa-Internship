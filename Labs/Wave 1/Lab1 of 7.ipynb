{
 "cells": [
  {
   "cell_type": "markdown",
   "metadata": {},
   "source": [
    "# Lab1 of 7"
   ]
  },
  {
   "cell_type": "code",
   "execution_count": 1,
   "metadata": {},
   "outputs": [
    {
     "name": "stdout",
     "output_type": "stream",
     "text": [
      "Full name is William Bradley Pitt\n",
      "Length is 20\n",
      "True\n"
     ]
    }
   ],
   "source": [
    "#Use string concatenation and the len() function to find the length of a certain movie star's actual full name. \n",
    "#Store that length in the name_length variable. Don't forget that there are spaces in between the different parts of a name!\n",
    "\n",
    "given_name = \"William\"\n",
    "middle_names = \"Bradley\"\n",
    "family_name = \"Pitt\"\n",
    "full_name = (given_name +' '+ middle_names +' '+ family_name)\n",
    "name_length = len(full_name)\n",
    "\n",
    "\n",
    "#todo: calculate how long this name is\n",
    "print(f'Full name is {full_name}')\n",
    "print(f'Length is {name_length}')\n",
    "# Now we check to make sure that the name fits within the driving license character limit\n",
    "# Nothing you need to do here\n",
    "driving_license_character_limit = 28\n",
    "print(name_length <= driving_license_character_limit)"
   ]
  },
  {
   "cell_type": "code",
   "execution_count": null,
   "metadata": {},
   "outputs": [],
   "source": []
  }
 ],
 "metadata": {
  "kernelspec": {
   "display_name": "Python 3",
   "language": "python",
   "name": "python3"
  },
  "language_info": {
   "codemirror_mode": {
    "name": "ipython",
    "version": 3
   },
   "file_extension": ".py",
   "mimetype": "text/x-python",
   "name": "python",
   "nbconvert_exporter": "python",
   "pygments_lexer": "ipython3",
   "version": "3.7.6"
  }
 },
 "nbformat": 4,
 "nbformat_minor": 4
}
