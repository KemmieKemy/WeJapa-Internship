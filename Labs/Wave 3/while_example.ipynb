{
 "cells": [
  {
   "cell_type": "code",
   "execution_count": 1,
   "metadata": {},
   "outputs": [
    {
     "name": "stdout",
     "output_type": "stream",
     "text": [
      "32\n"
     ]
    }
   ],
   "source": [
    "#Count By\n",
    "#Suppose you want to count from some number start_num by another number count_by until you hit a final number end_num. \n",
    "#Use break_num as the variable that you'll change each time through the loop. \n",
    "#For simplicity, assume that end_num is always larger than start_num and count_by is always positive.\n",
    "\n",
    "#Before the loop, what do you want to set break_num equal to? How do you want to change break_num each time through the loop? \n",
    "#What condition will you use to see when it's time to stop looping?\n",
    "\n",
    "#After the loop is done, print out break_num, showing the value that indicated it was time to stop looping. \n",
    "#It is the case that break_num should be a number that is the first number larger than end_num.\n",
    "\n",
    "\n",
    "\n",
    "\n",
    "start_num = 4\n",
    "end_num = 30\n",
    "count_by = 2 \n",
    "\n",
    "# write a while loop that uses break_num as the ongoing number to \n",
    "#   check against end_num\n",
    "break_num = start_num\n",
    "\n",
    "while break_num <= end_num:\n",
    "    break_num += count_by\n",
    "\n",
    "print(break_num)"
   ]
  },
  {
   "cell_type": "code",
   "execution_count": null,
   "metadata": {},
   "outputs": [],
   "source": []
  }
 ],
 "metadata": {
  "kernelspec": {
   "display_name": "Python 3",
   "language": "python",
   "name": "python3"
  },
  "language_info": {
   "codemirror_mode": {
    "name": "ipython",
    "version": 3
   },
   "file_extension": ".py",
   "mimetype": "text/x-python",
   "name": "python",
   "nbconvert_exporter": "python",
   "pygments_lexer": "ipython3",
   "version": "3.7.6"
  }
 },
 "nbformat": 4,
 "nbformat_minor": 4
}
