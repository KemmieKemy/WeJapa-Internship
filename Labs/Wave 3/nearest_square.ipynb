{
 "cells": [
  {
   "cell_type": "markdown",
   "metadata": {},
   "source": [
    "# Nearest Square"
   ]
  },
  {
   "cell_type": "code",
   "execution_count": 1,
   "metadata": {},
   "outputs": [
    {
     "name": "stdout",
     "output_type": "stream",
     "text": [
      "36\n"
     ]
    }
   ],
   "source": [
    "#Write a while loop that finds the largest square number less than an integer limit and stores it in a variable nearest_square. \n",
    "#A square number is the product of an integer multiplied by itself, for example 36 is a square number because it equals 6*6.\n",
    "\n",
    "#For example, if limit is 40, your code should set the nearest_square to 36.\n",
    "\n",
    "limit = 40\n",
    "\n",
    "# write your while loop here\n",
    "nearest_square = 0\n",
    "i = 0\n",
    "while nearest_square < limit:\n",
    "    i = i + 1\n",
    "    nearest_square = i * i\n",
    "\n",
    "if nearest_square > limit:\n",
    "    nearest_square = (i - 1) * (i - 1)\n",
    "    \n",
    "print(nearest_square)"
   ]
  }
 ],
 "metadata": {
  "kernelspec": {
   "display_name": "Python 3",
   "language": "python",
   "name": "python3"
  },
  "language_info": {
   "codemirror_mode": {
    "name": "ipython",
    "version": 3
   },
   "file_extension": ".py",
   "mimetype": "text/x-python",
   "name": "python",
   "nbconvert_exporter": "python",
   "pygments_lexer": "ipython3",
   "version": "3.7.6"
  }
 },
 "nbformat": 4,
 "nbformat_minor": 4
}
