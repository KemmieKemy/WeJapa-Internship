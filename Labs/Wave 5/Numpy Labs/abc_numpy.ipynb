{
 "cells": [
  {
   "cell_type": "code",
   "execution_count": 1,
   "metadata": {},
   "outputs": [
    {
     "name": "stdout",
     "output_type": "stream",
     "text": [
      "Letter Array:  ['a' 'b' 'c' 'd' 'e' 'f' 'g' 'h' 'i' 'j']\n",
      "dtype of array: <U1\n",
      "shape of array: (10,)\n",
      "size of array: 10\n"
     ]
    }
   ],
   "source": [
    "#Create a numpy array of strings containing letters 'a' through 'j' (inclusive) of the alphabet. \n",
    "#Then, use numpy array attributes to print the following information about this array:\n",
    "\n",
    "#dtype of array\n",
    "\n",
    "#shape of array\n",
    "#size of array\n",
    "\n",
    "#The code you submit in the code editor below will not be graded. \n",
    "#Use the results from your code below, along with what you remember from the previous video, to complete the quiz below the code editor.\n",
    "\n",
    "\n",
    "import numpy as np\n",
    "\n",
    "# create numpy array of letters a-j\n",
    "letter_array = np.array(['a', 'b', 'c', 'd', 'e', 'f', 'g', 'h', 'i', 'j'])\n",
    "print(\"Letter Array: \", letter_array)\n",
    "\n",
    "# get dtype of array\n",
    "print('dtype of array:',letter_array.dtype)\n",
    "\n",
    "# get shape of array\n",
    "print('shape of array:', letter_array.shape)\n",
    "\n",
    "# get size of array\n",
    "print('size of array:', letter_array.size)"
   ]
  },
  {
   "cell_type": "code",
   "execution_count": null,
   "metadata": {},
   "outputs": [],
   "source": []
  }
 ],
 "metadata": {
  "kernelspec": {
   "display_name": "Python 3",
   "language": "python",
   "name": "python3"
  },
  "language_info": {
   "codemirror_mode": {
    "name": "ipython",
    "version": 3
   },
   "file_extension": ".py",
   "mimetype": "text/x-python",
   "name": "python",
   "nbconvert_exporter": "python",
   "pygments_lexer": "ipython3",
   "version": "3.7.6"
  }
 },
 "nbformat": 4,
 "nbformat_minor": 4
}
