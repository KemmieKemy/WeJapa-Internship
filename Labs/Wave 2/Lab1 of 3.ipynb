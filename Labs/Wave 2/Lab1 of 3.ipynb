{
  "nbformat": 4,
  "nbformat_minor": 0,
  "metadata": {
    "kernelspec": {
      "display_name": "Python 3",
      "language": "python",
      "name": "python3"
    },
    "language_info": {
      "codemirror_mode": {
        "name": "ipython",
        "version": 3
      },
      "file_extension": ".py",
      "mimetype": "text/x-python",
      "name": "python",
      "nbconvert_exporter": "python",
      "pygments_lexer": "ipython3",
      "version": "3.7.6"
    },
    "colab": {
      "name": "Lab1 of 3.ipynb",
      "provenance": [],
      "collapsed_sections": []
    }
  },
  "cells": [
    {
      "cell_type": "markdown",
      "metadata": {
        "id": "KVuR7RhX3DRy",
        "colab_type": "text"
      },
      "source": [
        "# Lab1 of 3"
      ]
    },
    {
      "cell_type": "code",
      "metadata": {
        "id": "X7fzD8xN3DR3",
        "colab_type": "code",
        "colab": {}
      },
      "source": [
        "# Use this playground to experiment with list methods, using Test Run\n"
      ],
      "execution_count": 16,
      "outputs": []
    },
    {
      "cell_type": "code",
      "metadata": {
        "id": "xix8b9Sf3DSL",
        "colab_type": "code",
        "colab": {
          "base_uri": "https://localhost:8080/",
          "height": 35
        },
        "outputId": "26d53eff-0753-402b-cb00-dfb883fc0b34"
      },
      "source": [
        "# Use this playground to experiment with list methods, using Test Run\n",
        "\n",
        "x = ['Apple', 'Cup', 'Gold', 'Silver', 'Age', 'Ball']\n",
        "x.sort()\n",
        "print(x)"
      ],
      "execution_count": 17,
      "outputs": [
        {
          "output_type": "stream",
          "text": [
            "['Age', 'Apple', 'Ball', 'Cup', 'Gold', 'Silver']\n"
          ],
          "name": "stdout"
        }
      ]
    },
    {
      "cell_type": "code",
      "metadata": {
        "id": "VpZvZq023sSJ",
        "colab_type": "code",
        "colab": {
          "base_uri": "https://localhost:8080/",
          "height": 35
        },
        "outputId": "77c68b7c-b796-4176-ceb6-9f9792ff2b92"
      },
      "source": [
        "mylist = x.copy()\n",
        "print(mylist)"
      ],
      "execution_count": 18,
      "outputs": [
        {
          "output_type": "stream",
          "text": [
            "['Age', 'Apple', 'Ball', 'Cup', 'Gold', 'Silver']\n"
          ],
          "name": "stdout"
        }
      ]
    },
    {
      "cell_type": "code",
      "metadata": {
        "id": "bXG5y-AO4yTe",
        "colab_type": "code",
        "colab": {
          "base_uri": "https://localhost:8080/",
          "height": 35
        },
        "outputId": "45c7a1ea-f57f-4c74-b580-813fc73ef8bb"
      },
      "source": [
        "#The clear() method empties the list\n",
        "list = mylist.clear() \n",
        "print(list)"
      ],
      "execution_count": 19,
      "outputs": [
        {
          "output_type": "stream",
          "text": [
            "None\n"
          ],
          "name": "stdout"
        }
      ]
    },
    {
      "cell_type": "code",
      "metadata": {
        "id": "F2VrNg6T5YHN",
        "colab_type": "code",
        "colab": {
          "base_uri": "https://localhost:8080/",
          "height": 35
        },
        "outputId": "20144e96-00ea-45db-d3d8-2e36bbb6e299"
      },
      "source": [
        "list1 = [\"a\", \"b\" , \"c\"]\n",
        "list2 = [1, 2, 3]\n",
        "\n",
        "JoinList = list1 + list2\n",
        "print(JoinList) "
      ],
      "execution_count": 20,
      "outputs": [
        {
          "output_type": "stream",
          "text": [
            "['a', 'b', 'c', 1, 2, 3]\n"
          ],
          "name": "stdout"
        }
      ]
    },
    {
      "cell_type": "code",
      "metadata": {
        "id": "zjSgIt-r5RB4",
        "colab_type": "code",
        "colab": {
          "base_uri": "https://localhost:8080/",
          "height": 35
        },
        "outputId": "e6aa520e-f191-4eea-ea2f-b56fc7af826a"
      },
      "source": [
        "x.reverse()\n",
        "print (x)"
      ],
      "execution_count": 21,
      "outputs": [
        {
          "output_type": "stream",
          "text": [
            "['Silver', 'Gold', 'Cup', 'Ball', 'Apple', 'Age']\n"
          ],
          "name": "stdout"
        }
      ]
    },
    {
      "cell_type": "code",
      "metadata": {
        "id": "x1THB5HA5rqk",
        "colab_type": "code",
        "colab": {}
      },
      "source": [
        ""
      ],
      "execution_count": 21,
      "outputs": []
    }
  ]
}