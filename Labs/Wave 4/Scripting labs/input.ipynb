{
 "cells": [
  {
   "cell_type": "code",
   "execution_count": 2,
   "metadata": {},
   "outputs": [
    {
     "name": "stdout",
     "output_type": "stream",
     "text": [
      "Please enter a list of names (seperated with a comma): Kemmie, Ruth\n",
      "Please enter a list of names (seperated with a comma): 3,5\n",
      "Please enter a list of names (seperated with a comma): 92,81\n",
      "Hi Kemmie,\n",
      "\n",
      "This is a reminder that you have 3 assignments left to submit before you can graduate. You're current grade is 92 and can increase to 92 if you submit all assignments before the due date.\n",
      "\n",
      "\n",
      "Hi  Ruth,\n",
      "\n",
      "This is a reminder that you have 5 assignments left to submit before you can graduate. You're current grade is 81 and can increase to 81 if you submit all assignments before the due date.\n",
      "\n",
      "\n"
     ]
    }
   ],
   "source": [
    "#Write a script that does the following:\n",
    "\n",
    "#Ask for user input 3 times. Once for a list of names, once for a list of missing assignment counts, and once for a list of grades. Use this input to create lists for names, assignments, and grades.\n",
    "#Use a loop to print the message for each student with the correct values. The potential grade is simply the current grade added to two times the number of missing assignments.\n",
    "#Template code for your script:\n",
    "\n",
    "names =  list(input('Please enter a list of names (seperated with a comma): ').split(',')) # get and process input for a list of names\n",
    "\n",
    "assignments =  list(input('Please enter a list of names (seperated with a comma): ').split(',')) # get and process input for a list of the number of assignments\n",
    "assignments = [int(i) for i in assignments]\n",
    "\n",
    "grades =  list(input('Please enter a list of names (seperated with a comma): ').split(',')) # get and process input for a list of grades\n",
    "grades=[int(i) for i in grades]\n",
    "\n",
    "potential_grade= grades +2* assignments\n",
    "# message string to be used for each student\n",
    "# HINT: use .format() with this string in your for loop\n",
    "\n",
    "# write a for loop that iterates through each set of names, assignments, and grades to print each student's message\n",
    "\n",
    "for i in range(len(names)):\n",
    "    message = \"Hi {},\\n\\nThis is a reminder that you have {} assignments left to \\\n",
    "submit before you can graduate. You're current grade is {} and can increase \\\n",
    "to {} if you submit all assignments before the due date.\\n\\n\".format(names[i],assignments[i],grades[i],potential_grade[i])\n",
    "    print(message)"
   ]
  },
  {
   "cell_type": "code",
   "execution_count": null,
   "metadata": {},
   "outputs": [],
   "source": []
  }
 ],
 "metadata": {
  "kernelspec": {
   "display_name": "Python 3",
   "language": "python",
   "name": "python3"
  },
  "language_info": {
   "codemirror_mode": {
    "name": "ipython",
    "version": 3
   },
   "file_extension": ".py",
   "mimetype": "text/x-python",
   "name": "python",
   "nbconvert_exporter": "python",
   "pygments_lexer": "ipython3",
   "version": "3.7.6"
  }
 },
 "nbformat": 4,
 "nbformat_minor": 4
}
