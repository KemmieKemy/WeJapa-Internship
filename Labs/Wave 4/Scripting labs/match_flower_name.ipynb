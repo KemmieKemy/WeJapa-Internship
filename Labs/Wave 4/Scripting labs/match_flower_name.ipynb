{
 "cells": [
  {
   "cell_type": "code",
   "execution_count": 1,
   "metadata": {},
   "outputs": [
    {
     "name": "stdout",
     "output_type": "stream",
     "text": [
      "Enter your First [space] Last name only: Bill Newman\n",
      "Unique flower name with the first letter: Bellflower\n",
      "\n"
     ]
    }
   ],
   "source": [
    "\"\"\"\n",
    "For the following practice question you will need to write code in Python in the workspace below. \n",
    "This will allow you to practice the concepts discussed in the Scripting lesson, such as reading and writing files. \n",
    "You will see some older concepts too, but again, we have them there to review and reinforce your understanding of those concepts.\n",
    "\n",
    "Question: Create a function that opens the flowers.txt, reads every line in it, and saves it as a dictionary. \n",
    "The main (separate) function should take user input (user's first name and last name) and parse the user input to identify the first letter of the first name. \n",
    "It should then use it to print the flower name with the same first letter (from dictionary created in the first function).\n",
    "\"\"\"\n",
    "#Sample Output:\n",
    "\n",
    "#>>> Enter your First [space] Last name only: Bill Newman\n",
    "#>>> Unique flower name with the first letter: Bellflower\n",
    "\n",
    "# Write your code here\n",
    "Name = input('Enter your First [space] Last name only: ') \n",
    "\n",
    "# HINT: create a dictionary from flowers.txt\n",
    "flowers = dict()\n",
    "\n",
    "# HINT: create a function\n",
    "def get_flower(Name):\n",
    "    with open(\"flowers.txt\",'r') as f:\n",
    "        flowers_file = f.readlines()\n",
    "        for i in flowers_file:\n",
    "            i = i.split(': ')\n",
    "            flowers[i[0]] = i[1]\n",
    "        result = flowers[Name]\n",
    "        return result \n",
    "    \n",
    "first_letter = Name[0].upper()\n",
    "\n",
    "print(f'Unique flower name with the first letter: {get_flower(first_letter)}')"
   ]
  },
  {
   "cell_type": "code",
   "execution_count": null,
   "metadata": {},
   "outputs": [],
   "source": []
  }
 ],
 "metadata": {
  "kernelspec": {
   "display_name": "Python 3",
   "language": "python",
   "name": "python3"
  },
  "language_info": {
   "codemirror_mode": {
    "name": "ipython",
    "version": 3
   },
   "file_extension": ".py",
   "mimetype": "text/x-python",
   "name": "python",
   "nbconvert_exporter": "python",
   "pygments_lexer": "ipython3",
   "version": "3.7.6"
  }
 },
 "nbformat": 4,
 "nbformat_minor": 4
}
